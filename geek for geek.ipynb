{
 "cells": [
  {
   "cell_type": "code",
   "execution_count": 1,
   "id": "06072797",
   "metadata": {},
   "outputs": [
    {
     "name": "stdout",
     "output_type": "stream",
     "text": [
      "Enter your name: harsh\n",
      "hello harsh\n"
     ]
    }
   ],
   "source": [
    "# Python program to illustrate\n",
    "# getting input from user\n",
    "name = input(\"Enter your name: \") \n",
    "  \n",
    "# user entered the name 'harssh'\n",
    "print(\"hello\", name)"
   ]
  },
  {
   "cell_type": "code",
   "execution_count": 2,
   "id": "ac4a207f",
   "metadata": {},
   "outputs": [
    {
     "name": "stdout",
     "output_type": "stream",
     "text": [
      "Enter num1: 56\n",
      "Enter num2: 67\n",
      "Product is:  3752\n"
     ]
    }
   ],
   "source": [
    "# Python3 program to get input from user\n",
    "  \n",
    "# accepting integer from the user\n",
    "# the return type of input() function is string ,\n",
    "# so we need to convert the input to integer\n",
    "num1 = int(input(\"Enter num1: \"))\n",
    "num2 = int(input(\"Enter num2: \"))\n",
    "  \n",
    "num3 = num1 * num2\n",
    "print(\"Product is: \", num3)"
   ]
  },
  {
   "cell_type": "code",
   "execution_count": 3,
   "id": "2cbc64b3",
   "metadata": {},
   "outputs": [
    {
     "name": "stdout",
     "output_type": "stream",
     "text": [
      "Num1 is good\n"
     ]
    }
   ],
   "source": [
    "# Python program to illustrate\n",
    "# selection statement\n",
    "  \n",
    "num1 = 34\n",
    "if(num1>12):\n",
    "    print(\"Num1 is good\")\n",
    "elif(num1>35):\n",
    "    print(\"Num2 is not gooooo....\")\n",
    "else:\n",
    "    print(\"Num2 is great\")"
   ]
  },
  {
   "cell_type": "code",
   "execution_count": 4,
   "id": "31f5904a",
   "metadata": {},
   "outputs": [
    {
     "name": "stdout",
     "output_type": "stream",
     "text": [
      "Num2 is great\n"
     ]
    }
   ],
   "source": [
    "# Python program to illustrate\n",
    "# selection statement\n",
    "  \n",
    "num1 = 3\n",
    "if(num1>12):\n",
    "    print(\"Num1 is good\")\n",
    "elif(num1>35):\n",
    "    print(\"Num2 is not gooooo....\")\n",
    "else:\n",
    "    print(\"Num2 is great\")"
   ]
  },
  {
   "cell_type": "code",
   "execution_count": 5,
   "id": "9ab49ffd",
   "metadata": {},
   "outputs": [
    {
     "name": "stdout",
     "output_type": "stream",
     "text": [
      "hello\n",
      "hello again\n",
      "hello bhai\n",
      "hello\n",
      "hello again\n",
      "hello bhai\n"
     ]
    }
   ],
   "source": [
    "# Python program to illustrate\n",
    "# functions\n",
    "def hello():\n",
    "    print(\"hello\")\n",
    "    print(\"hello again\")\n",
    "    print(\"hello bhai\")\n",
    "hello()\n",
    "  \n",
    "# calling function\n",
    "hello()     "
   ]
  },
  {
   "cell_type": "code",
   "execution_count": 6,
   "id": "2eb3b965",
   "metadata": {},
   "outputs": [
    {
     "name": "stdout",
     "output_type": "stream",
     "text": [
      "Started\n",
      "Enter integer: 6\n",
      "6\n"
     ]
    }
   ],
   "source": [
    "# Python program to illustrate \n",
    "# function with main\n",
    "def getInteger():\n",
    "    result = int(input(\"Enter integer: \"))\n",
    "    return result\n",
    "  \n",
    "def Main():\n",
    "    print(\"Started\")\n",
    "  \n",
    "    # calling the getInteger function and \n",
    "    # storing its returned value in the output variable\n",
    "    output = getInteger()     \n",
    "    print(output)\n",
    "  \n",
    "# now we are required to tell Python \n",
    "# for 'Main' function existence\n",
    "if __name__==\"__main__\":\n",
    "    Main()"
   ]
  },
  {
   "cell_type": "code",
   "execution_count": 7,
   "id": "a5da7b43",
   "metadata": {},
   "outputs": [
    {
     "name": "stdout",
     "output_type": "stream",
     "text": [
      "0\n",
      "1\n",
      "2\n",
      "3\n",
      "4\n"
     ]
    }
   ],
   "source": [
    "# Python program to illustrate\n",
    "# a simple for loop\n",
    "  \n",
    "for step in range(5):    \n",
    "    print(step)"
   ]
  },
  {
   "cell_type": "code",
   "execution_count": 8,
   "id": "451a78fd",
   "metadata": {},
   "outputs": [
    {
     "name": "stdout",
     "output_type": "stream",
     "text": [
      "85.0\n"
     ]
    }
   ],
   "source": [
    "# Python program to illustrate\n",
    "# math module\n",
    "import math\n",
    "  \n",
    "def Main():\n",
    "    num = -85\n",
    "  \n",
    "    # fabs is used to get the absolute \n",
    "    # value of a decimal\n",
    "    num = math.fabs(num) \n",
    "    print(num)\n",
    "      \n",
    "      \n",
    "if __name__==\"__main__\":\n",
    "    Main()"
   ]
  },
  {
   "cell_type": "code",
   "execution_count": 9,
   "id": "45f1055d",
   "metadata": {},
   "outputs": [
    {
     "name": "stdout",
     "output_type": "stream",
     "text": [
      "Hello World\n"
     ]
    }
   ],
   "source": [
    "# Python code for \"Hello World\"\n",
    "# nothing else to type...see how simple is the syntax.\n",
    " \n",
    "print(\"Hello World\") "
   ]
  },
  {
   "cell_type": "code",
   "execution_count": 10,
   "id": "ae36fd1b",
   "metadata": {},
   "outputs": [
    {
     "name": "stdout",
     "output_type": "stream",
     "text": [
      "3\n",
      "4.5\n",
      "helloworld\n"
     ]
    }
   ],
   "source": [
    "# Python program to declare variables\n",
    "myNumber = 3\n",
    "print(myNumber)\n",
    "  \n",
    "myNumber2 = 4.5\n",
    "print(myNumber2)\n",
    "  \n",
    "myNumber =\"helloworld\"\n",
    "print(myNumber)"
   ]
  },
  {
   "cell_type": "code",
   "execution_count": 11,
   "id": "948a8365",
   "metadata": {},
   "outputs": [
    {
     "name": "stdout",
     "output_type": "stream",
     "text": [
      "[21, 40.5, 'String', 'baby']\n"
     ]
    }
   ],
   "source": [
    "# Python program to illustrate a list\n",
    "  \n",
    "# creates a empty list\n",
    "nums = []\n",
    "  \n",
    "# appending data in list\n",
    "nums.append(21)\n",
    "nums.append(40.5)\n",
    "nums.append(\"String\")\n",
    "nums.append(\"baby\")\n",
    "  \n",
    "print(nums)"
   ]
  },
  {
   "cell_type": "code",
   "execution_count": 12,
   "id": "ecfec841",
   "metadata": {},
   "outputs": [
    {
     "name": "stdout",
     "output_type": "stream",
     "text": [
      "{1: 'Geeks', 2: 'For', 3: 'Geeks'}\n"
     ]
    }
   ],
   "source": [
    "# Python program to illustrate a Dictionary\n",
    " \n",
    "# creates a empty list\n",
    "Dict = []\n",
    " \n",
    "# putting integer values\n",
    "Dict = {1: 'Geeks', 2: 'For', 3: 'Geeks'}\n",
    " \n",
    "print(Dict)\n",
    " "
   ]
  },
  {
   "cell_type": "code",
   "execution_count": 13,
   "id": "31618909",
   "metadata": {},
   "outputs": [
    {
     "data": {
      "text/plain": [
       "{1: 'Geeks', 2: 'For', 3: 'Geeks'}"
      ]
     },
     "execution_count": 13,
     "metadata": {},
     "output_type": "execute_result"
    }
   ],
   "source": [
    "Dict"
   ]
  },
  {
   "cell_type": "code",
   "execution_count": 14,
   "id": "de0350bb",
   "metadata": {},
   "outputs": [
    {
     "name": "stdout",
     "output_type": "stream",
     "text": [
      "1\n",
      "2\n",
      "3\n"
     ]
    }
   ],
   "source": [
    "for i in Dict:\n",
    "    print(i)"
   ]
  },
  {
   "cell_type": "code",
   "execution_count": 15,
   "id": "1c8bfef0",
   "metadata": {},
   "outputs": [
    {
     "name": "stdout",
     "output_type": "stream",
     "text": [
      "('Geeks', 'For', 'Geeks')\n"
     ]
    }
   ],
   "source": [
    "# Python program to illustrate a tuple\n",
    "   \n",
    "# creates a tuple which is immutable\n",
    "tup = ('Geeks', 'For', 'Geeks')\n",
    " \n",
    "print(tup)"
   ]
  },
  {
   "cell_type": "code",
   "execution_count": 16,
   "id": "939207f9",
   "metadata": {},
   "outputs": [
    {
     "name": "stdout",
     "output_type": "stream",
     "text": [
      "{'Geeks', 'For'}\n"
     ]
    }
   ],
   "source": [
    "# Python program to illustrate a set\n",
    " \n",
    "# define a set and its elements\n",
    "myset = set([\"Geeks\", \"For\", \"Geeks\"])\n",
    " \n",
    "#as set doesn't have duplicate elements so, 1 geeks will not be printed\n",
    "print(myset)"
   ]
  },
  {
   "cell_type": "code",
   "execution_count": 17,
   "id": "50368b8f",
   "metadata": {},
   "outputs": [
    {
     "name": "stdout",
     "output_type": "stream",
     "text": [
      "Enter your name: harsh\n",
      "hello harsh\n"
     ]
    }
   ],
   "source": [
    "# Python program to illustrate\n",
    "# getting input from user\n",
    "name = input(\"Enter your name: \")\n",
    "  \n",
    "# user entered the name 'harssh'\n",
    "print(\"hello\", name)"
   ]
  },
  {
   "cell_type": "code",
   "execution_count": null,
   "id": "64dd51e4",
   "metadata": {},
   "outputs": [],
   "source": []
  },
  {
   "cell_type": "code",
   "execution_count": null,
   "id": "e0bb8b08",
   "metadata": {},
   "outputs": [],
   "source": []
  }
 ],
 "metadata": {
  "kernelspec": {
   "display_name": "Python 3 (ipykernel)",
   "language": "python",
   "name": "python3"
  },
  "language_info": {
   "codemirror_mode": {
    "name": "ipython",
    "version": 3
   },
   "file_extension": ".py",
   "mimetype": "text/x-python",
   "name": "python",
   "nbconvert_exporter": "python",
   "pygments_lexer": "ipython3",
   "version": "3.9.13"
  }
 },
 "nbformat": 4,
 "nbformat_minor": 5
}
